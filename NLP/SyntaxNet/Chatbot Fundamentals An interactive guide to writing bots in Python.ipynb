{
 "cells": [
  {
   "cell_type": "markdown",
   "metadata": {},
   "source": [
    "Chatbot Fundamentals An interactive guide to writing bots in Python\n",
    "--------------------------------------------------------------------"
   ]
  },
  {
   "cell_type": "markdown",
   "metadata": {
    "collapsed": true
   },
   "source": [
    "**About this tutorial**\n",
    "\n",
    "The source code presented here is interactive. You are strongly encouraged to modify the Python code —right in your browser—and experiment with the outcomes. (You may get a lot of error messages, but I promise you can't permanently break anything!) See Technical details below for more information on how the live code is implemented."
   ]
  },
  {
   "cell_type": "markdown",
   "metadata": {},
   "source": [
    "The boundaries of a bot\n",
    "-----------------------"
   ]
  },
  {
   "cell_type": "markdown",
   "metadata": {},
   "source": [
    "대화식 UI를 만들때 고려해야 할 것은 도메인 지식 과 개성 이다.\n",
    "\n",
    "도메인 지식 : 사용자가이 봇이 무엇을 이해하기를 기대합니까?\n",
    "개성 : 로봇이 사용하는 톤이나 어휘는 무엇입니까?"
   ]
  },
  {
   "cell_type": "code",
   "execution_count": 1,
   "metadata": {
    "collapsed": true
   },
   "outputs": [],
   "source": [
    "# Sentences we'll respond with if the user greeted us\n",
    "GREETING_KEYWORDS = (\"hello\", \"hi\", \"greetings\", \"sup\", \"what's up\",)\n",
    "\n",
    "GREETING_RESPONSES = [\"'sup bro\", \"hey\", \"*nods*\", \"hey you get my snap?\"]\n",
    "\n",
    "def check_for_greeting(sentence):\n",
    "    \"\"\"If any of the words in the user's input was a greeting, return a greeting response\"\"\"\n",
    "    for word in sentence.words:\n",
    "        if word.lower() in GREETING_KEYWORDS:\n",
    "            return random.choice(GREETING_RESPONSES)"
   ]
  },
  {
   "cell_type": "markdown",
   "metadata": {},
   "source": [
    "NLP로 작업하는 Python 프로그래머는 TextBlob과 spaCy 중에서 선택할 수있는 두 개의 훌륭한 고수준 라이브러리를 제공합니다. spaCy는 사용하기 쉽고 빠르지 만 메모리 집약적 일 수 있으며 전체 통계 NLP를 포괄하지는 않습니다. TextBlob은 매우 친숙한 API로 비대칭 NLTK 라이브러리를 래핑하므로 느려질 수는 있지만 상당히 포괄적입니다. 여기 TextBlob을 사용 하겠지만, spaCy를 사용한 예제의 텍스트 생성에 관한 기사를 참조하십시오"
   ]
  },
  {
   "cell_type": "code",
   "execution_count": 2,
   "metadata": {
    "collapsed": true
   },
   "outputs": [],
   "source": [
    " import nltk\n"
   ]
  },
  {
   "cell_type": "code",
   "execution_count": 4,
   "metadata": {
    "collapsed": false
   },
   "outputs": [
    {
     "name": "stdout",
     "output_type": "stream",
     "text": [
      "showing info https://raw.githubusercontent.com/nltk/nltk_data/gh-pages/index.xml\n"
     ]
    },
    {
     "name": "stderr",
     "output_type": "stream",
     "text": [
      "Exception in Tkinter callback\n",
      "Traceback (most recent call last):\n",
      "  File \"/Users/JunChangWook/anaconda2/lib/python2.7/lib-tk/Tkinter.py\", line 1537, in __call__\n",
      "    return self.func(*args)\n",
      "  File \"/Users/JunChangWook/anaconda2/lib/python2.7/site-packages/nltk/downloader.py\", line 1569, in _download\n",
      "    return self._download_threaded(*e)\n",
      "  File \"/Users/JunChangWook/anaconda2/lib/python2.7/site-packages/nltk/downloader.py\", line 1836, in _download_threaded\n",
      "    assert self._download_msg_queue == []\n",
      "AssertionError\n",
      "Exception in Tkinter callback\n",
      "Traceback (most recent call last):\n",
      "  File \"/Users/JunChangWook/anaconda2/lib/python2.7/lib-tk/Tkinter.py\", line 1537, in __call__\n",
      "    return self.func(*args)\n",
      "  File \"/Users/JunChangWook/anaconda2/lib/python2.7/site-packages/nltk/downloader.py\", line 1569, in _download\n",
      "    return self._download_threaded(*e)\n",
      "  File \"/Users/JunChangWook/anaconda2/lib/python2.7/site-packages/nltk/downloader.py\", line 1836, in _download_threaded\n",
      "    assert self._download_msg_queue == []\n",
      "AssertionError\n",
      "Exception in Tkinter callback\n",
      "Traceback (most recent call last):\n",
      "  File \"/Users/JunChangWook/anaconda2/lib/python2.7/lib-tk/Tkinter.py\", line 1537, in __call__\n",
      "    return self.func(*args)\n",
      "  File \"/Users/JunChangWook/anaconda2/lib/python2.7/site-packages/nltk/downloader.py\", line 1569, in _download\n",
      "    return self._download_threaded(*e)\n",
      "  File \"/Users/JunChangWook/anaconda2/lib/python2.7/site-packages/nltk/downloader.py\", line 1836, in _download_threaded\n",
      "    assert self._download_msg_queue == []\n",
      "AssertionError\n",
      "Exception in Tkinter callback\n",
      "Traceback (most recent call last):\n",
      "  File \"/Users/JunChangWook/anaconda2/lib/python2.7/lib-tk/Tkinter.py\", line 1537, in __call__\n",
      "    return self.func(*args)\n",
      "  File \"/Users/JunChangWook/anaconda2/lib/python2.7/site-packages/nltk/downloader.py\", line 1569, in _download\n",
      "    return self._download_threaded(*e)\n",
      "  File \"/Users/JunChangWook/anaconda2/lib/python2.7/site-packages/nltk/downloader.py\", line 1836, in _download_threaded\n",
      "    assert self._download_msg_queue == []\n",
      "AssertionError\n"
     ]
    },
    {
     "data": {
      "text/plain": [
       "True"
      ]
     },
     "execution_count": 4,
     "metadata": {},
     "output_type": "execute_result"
    }
   ],
   "source": [
    ">>> nltk.download()"
   ]
  },
  {
   "cell_type": "markdown",
   "metadata": {
    "collapsed": true
   },
   "source": [
    "참고문헌\n",
    "-------\n",
    "https://apps.worldwritable.com/tutorials/chatbot/\n",
    "\n",
    "http://jinja.pocoo.org/\n",
    "\n",
    "https://github.com/lizadaly/brobot/"
   ]
  },
  {
   "cell_type": "code",
   "execution_count": null,
   "metadata": {
    "collapsed": true
   },
   "outputs": [],
   "source": []
  }
 ],
 "metadata": {
  "anaconda-cloud": {},
  "kernelspec": {
   "display_name": "Python [Root]",
   "language": "python",
   "name": "Python [Root]"
  },
  "language_info": {
   "codemirror_mode": {
    "name": "ipython",
    "version": 2
   },
   "file_extension": ".py",
   "mimetype": "text/x-python",
   "name": "python",
   "nbconvert_exporter": "python",
   "pygments_lexer": "ipython2",
   "version": "2.7.12"
  }
 },
 "nbformat": 4,
 "nbformat_minor": 0
}
