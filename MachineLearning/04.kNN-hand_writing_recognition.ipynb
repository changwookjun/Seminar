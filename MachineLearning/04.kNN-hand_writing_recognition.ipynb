{
 "cells": [
  {
   "cell_type": "markdown",
   "metadata": {
    "collapsed": true
   },
   "source": [
    "# kNN hand writing recognition\n",
    "\n",
    "we want the machine to recognize the hand written number and answer the number\n",
    "\n",
    "### Define Problem\n",
    "사람이 쓴 글씨를 알아 맞추는 작업한다.\n",
    "\n",
    "### Collect Data\n",
    "### Extract Data\n",
    "manning.com 에서 데이터를 수집한다.\n",
    "\n",
    "### Develop model through iteration\n",
    "200 * 10 = 2000개의 데이터 셋을 입력하고 학습 한다.\n",
    "\n",
    "### Deploy Model\n",
    "다 배웠어 이제 나한테 물어봐 .\n",
    "knn 알고리즘 근처에 있는 것들 중 가장 높은 값을 넘겨 준다."
   ]
  },
  {
   "cell_type": "markdown",
   "metadata": {},
   "source": [
    "For our tutorial, I obtain our data from\n",
    "\n",
    "https://www.manning.com/books/machine-learning-in-action, \n",
    "\n",
    "which has 200 training datasets for each Number from 0 to 9."
   ]
  },
  {
   "cell_type": "code",
   "execution_count": null,
   "metadata": {
    "collapsed": true
   },
   "outputs": [],
   "source": []
  }
 ],
 "metadata": {
  "kernelspec": {
   "display_name": "Python [Root]",
   "language": "python",
   "name": "Python [Root]"
  },
  "language_info": {
   "codemirror_mode": {
    "name": "ipython",
    "version": 2
   },
   "file_extension": ".py",
   "mimetype": "text/x-python",
   "name": "python",
   "nbconvert_exporter": "python",
   "pygments_lexer": "ipython2",
   "version": "2.7.12"
  }
 },
 "nbformat": 4,
 "nbformat_minor": 0
}
