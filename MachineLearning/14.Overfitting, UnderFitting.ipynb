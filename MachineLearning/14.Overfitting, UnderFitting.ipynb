{
 "cells": [
  {
   "cell_type": "markdown",
   "metadata": {},
   "source": [
    "### Overfitting, UnderFitting\n"
   ]
  },
  {
   "cell_type": "markdown",
   "metadata": {},
   "source": [
    "### a machine for recognizing ball\n",
    "\n",
    "<img src=\"./image/over_under01.png\" height=\"300\" width=\"600\">"
   ]
  },
  {
   "cell_type": "markdown",
   "metadata": {},
   "source": [
    "### How will you teach the machine that these are balls?\n",
    "\n",
    "<img src=\"./image/over_under02.png\" height=\"300\" width=\"600\">\n",
    "\n",
    "**동그랗게 생긴게 공이다**"
   ]
  },
  {
   "cell_type": "markdown",
   "metadata": {},
   "source": [
    "Let's test the machin\n",
    "=====================\n",
    "\n",
    "<img src=\"./image/over_under03.png\" height=\"300\" width=\"600\">\n",
    "\n",
    "축구공, 농구공, 야구공 공이다. \n",
    "\n",
    "이렇게 하면 사과, 달도 공이다고 한다."
   ]
  },
  {
   "cell_type": "markdown",
   "metadata": {},
   "source": [
    "How will you teach your baby in this situation?\n",
    "===============================================\n",
    "\n",
    "* round shape\n",
    "* you cannot eat ball\n",
    "* you can play with ball"
   ]
  },
  {
   "cell_type": "markdown",
   "metadata": {},
   "source": [
    "Your machine was too bias\n",
    "=========================\n",
    "\n",
    "* round shape (JUST 한가지 특징만 교육된 상황)\n",
    " - Bias 하게 교육되어 있다."
   ]
  },
  {
   "cell_type": "markdown",
   "metadata": {},
   "source": [
    "** This is Underfitting ** \n"
   ]
  },
  {
   "cell_type": "markdown",
   "metadata": {
    "collapsed": true
   },
   "source": [
    "<img src=\"./image/over_under04.png\" height=\"300\" width=\"600\">"
   ]
  },
  {
   "cell_type": "markdown",
   "metadata": {},
   "source": [
    "Teach your machine with more feature (more variances, less bias)\n",
    "================================================================\n",
    "\n",
    "- round shape (둥근 모양)\n",
    "- you cannot eat ball (먹을 수 없다.)\n",
    "- you can play with ball (볼을 가지고 놀수 있다.)\n",
    "\n",
    "<b>위에 내용으로 학습</b>"
   ]
  },
  {
   "cell_type": "markdown",
   "metadata": {},
   "source": [
    "Your machine recognition is good now\n",
    "======================================\n",
    "\n",
    "\n",
    "<img src=\"./image/over_under05.png\" height=\"300\" width=\"600\">"
   ]
  },
  {
   "cell_type": "markdown",
   "metadata": {},
   "source": [
    "What if you teach machine with too many features from given data ?\n",
    "=======================================================================\n",
    "\n",
    "- round shape\n",
    "\n",
    "- you cannot eat ball\n",
    "\n",
    "- you can play with ball\n",
    "\n",
    "- ball has stitch(실밥)\n",
    "\n",
    "- greater than 70mm in diameter\n"
   ]
  },
  {
   "cell_type": "markdown",
   "metadata": {},
   "source": [
    "your machine recognition is worse\n",
    "======================================\n",
    "\n",
    "\n",
    "<img src=\"./image/over_under06.png\" height=\"300\" width=\"600\">"
   ]
  },
  {
   "cell_type": "markdown",
   "metadata": {},
   "source": [
    "your machine had high variances\n",
    "==================================\n",
    "\n",
    "<b>Over Fitting</b>\n",
    "\n",
    "봤던 것들은 잘 보는데 보지 못한것들은 잘 맞추지 못한다.\n",
    "\n",
    "<img src=\"./image/over_under07.png\" height=\"300\" width=\"600\">"
   ]
  },
  {
   "cell_type": "markdown",
   "metadata": {},
   "source": [
    "bias and variance\n",
    "==================\n",
    "\n",
    "<b> Overfitting 과 under fitting을 이해하기 위한 개념</b>\n",
    "\n",
    "Bias measures how far off in general there models' predictions are from the correct value.\n",
    "\n",
    "Variance is how much the predictions for a given point vary between diffent realization.\n",
    "\n",
    "* Bias : 실제 값에서 얼마나 멀어져 있는가?\n",
    "\n",
    "* Variance : 예측된 값이 얼마나 멀리 떨어져 있는가?"
   ]
  },
  {
   "cell_type": "markdown",
   "metadata": {},
   "source": [
    "<img src=\"./image/over_under08.png\" height=\"300\" width=\"600\">"
   ]
  },
  {
   "cell_type": "markdown",
   "metadata": {},
   "source": [
    "Bias, Variance Trade Off\n",
    "==========================\n",
    "<img src=\"./image/over_under09.png\" height=\"300\" width=\"600\">\n"
   ]
  },
  {
   "cell_type": "code",
   "execution_count": null,
   "metadata": {
    "collapsed": true
   },
   "outputs": [],
   "source": []
  }
 ],
 "metadata": {
  "anaconda-cloud": {},
  "kernelspec": {
   "display_name": "Python [Root]",
   "language": "python",
   "name": "Python [Root]"
  },
  "language_info": {
   "codemirror_mode": {
    "name": "ipython",
    "version": 2
   },
   "file_extension": ".py",
   "mimetype": "text/x-python",
   "name": "python",
   "nbconvert_exporter": "python",
   "pygments_lexer": "ipython2",
   "version": "2.7.12"
  }
 },
 "nbformat": 4,
 "nbformat_minor": 0
}
