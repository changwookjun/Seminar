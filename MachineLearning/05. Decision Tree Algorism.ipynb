{
 "cells": [
  {
   "cell_type": "markdown",
   "metadata": {},
   "source": [
    "### How Decision Tree works\n",
    "\n",
    "<img src=\"./image/DecisionTreeData.png\" height=\"400\" width=\"600\">\n",
    "\n",
    "겨울 가족 사진 찾아봐 ?\n",
    "    \n",
    "    Hint) 1. 만화가 아니고\n",
    "          2. 눈이 있고\n",
    "          3. 사람이 있고\n",
    "          4. 여러명 있고"
   ]
  },
  {
   "cell_type": "markdown",
   "metadata": {},
   "source": [
    "### We definitely know the cartoon is not a family photo\n",
    "\n",
    "<img src=\"./image/DecisionTree01.png\" height=\"400\" width=\"600\">"
   ]
  },
  {
   "cell_type": "markdown",
   "metadata": {},
   "source": [
    "### We definitely know summer is not a winter photo\n",
    "\n",
    "<img src=\"./image/DecisionTree02.png\" height=\"400\" width=\"600\">\n"
   ]
  },
  {
   "cell_type": "markdown",
   "metadata": {},
   "source": [
    "### We know family photo has more than 1 person\n",
    "\n",
    "<img src=\"./image/DecisionTree03.png\" height=\"400\" width=\"600\">"
   ]
  },
  {
   "cell_type": "markdown",
   "metadata": {},
   "source": [
    "### Now, your baby can recognize more pictures using this decision tree\n",
    "<img src=\"./image/DecisionTree04.png\" height=\"400\" width=\"600\">\n",
    "\n",
    "\n",
    "### Yes, the baby is the machine, and the machine learned from you"
   ]
  },
  {
   "cell_type": "markdown",
   "metadata": {},
   "source": [
    "### Decision Tree, two main concepts\n",
    "\n",
    "<img src=\"./image/DecisionTree05.png\" height=\"400\" width=\"600\">"
   ]
  },
  {
   "cell_type": "markdown",
   "metadata": {},
   "source": [
    "### Build a Decision Tree - Extract training data\n",
    "<img src=\"./image/DecisionTree06.png\" height=\"400\" width=\"600\">"
   ]
  },
  {
   "cell_type": "markdown",
   "metadata": {},
   "source": [
    "### Build a Decision Tree\n",
    "    ** Choose best feature to split **\n",
    " <img src=\"./image/DecisionTree07.png\" height=\"400\" width=\"600\">\n",
    " \n",
    " filtout"
   ]
  },
  {
   "cell_type": "markdown",
   "metadata": {},
   "source": [
    "### Entropy\n",
    "** (Mesasure of Messiness)**\n",
    "<img src=\"./image/Entropy.png\" height=\"400\" width=\"600\">\n",
    "\n",
    "여러가지 사진이 있고 Atribute도 3개가 존재 하는데 Atribute를 사용하여\n",
    "Split 하므로써 Entropy가 점점 낮아 진다고 말할 수 있다.\n",
    "(Clean 되어 지고 있다.)"
   ]
  }
 ],
 "metadata": {
  "anaconda-cloud": {},
  "kernelspec": {
   "display_name": "Python [Root]",
   "language": "python",
   "name": "Python [Root]"
  },
  "language_info": {
   "codemirror_mode": {
    "name": "ipython",
    "version": 2
   },
   "file_extension": ".py",
   "mimetype": "text/x-python",
   "name": "python",
   "nbconvert_exporter": "python",
   "pygments_lexer": "ipython2",
   "version": "2.7.12"
  }
 },
 "nbformat": 4,
 "nbformat_minor": 0
}
