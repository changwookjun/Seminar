{
 "cells": [
  {
   "cell_type": "markdown",
   "metadata": {},
   "source": [
    "### K - Nearest Neighbors Algorithm"
   ]
  },
  {
   "cell_type": "markdown",
   "metadata": {},
   "source": [
    "How kNN(k - Nearest Neighbors) algorithm works\n",
    "\n",
    "Assign K a value - preferably a small odd number\n",
    "(k = 3) ==> 작고 홀수로 쓰는게 보편적이다."
   ]
  },
  {
   "cell_type": "markdown",
   "metadata": {},
   "source": [
    "<img src=\"./image/knn01.png\" height=\"400\" width=\"600\">"
   ]
  },
  {
   "cell_type": "markdown",
   "metadata": {},
   "source": [
    "삼각 함수를 이용해서 거리를 구한다.\n",
    "<img src=\"./image/knn02.png\" height=\"400\" width=\"600\">"
   ]
  },
  {
   "cell_type": "code",
   "execution_count": 30,
   "metadata": {
    "collapsed": true
   },
   "outputs": [],
   "source": [
    "from numpy import *\n",
    "import operator\n",
    "\n",
    "def createDataSet():\n",
    "    group = array([[1, 2], [1, 4], [4,1], [4,2]])\n",
    "    labels = ['Action', 'Action', 'Romantic', 'Romantic']\n",
    "    return group, labels"
   ]
  },
  {
   "cell_type": "code",
   "execution_count": 31,
   "metadata": {
    "collapsed": true
   },
   "outputs": [],
   "source": [
    "def classify0(inX, dataSet, labels, k):\n",
    "    #calculate the distance between inX and the current point\n",
    "    sortedDistIndices = calcDistance(inX, dataSet, labels, k)\n",
    "    # take k items with lowest distances to inX and find the majority class among k items\n",
    "    sortedClassCount = findMajorityClass(inX, dataSet, labels, k, sortedDistIndices)\n",
    "    # sortedClassCount is now [('Action', 2)], therefore return Action\n",
    "    return sortedClassCount[0][0] #Action"
   ]
  },
  {
   "cell_type": "code",
   "execution_count": 32,
   "metadata": {
    "collapsed": true
   },
   "outputs": [],
   "source": [
    "def calcDistance(inX, dataSet, labels, k):\n",
    "    # shape is a tuple that gives dimensions of the array\n",
    "    # shape[0] returns the number of rows, here will return 4\n",
    "    dataSetSize = dataSet.shape[0] #dataSetSize = 4\n",
    "    \n",
    "    # tile construct an array by repeating dataSetSize\n",
    "    diffMat = tile(inX, (dataSetSize, 1)) - dataSet\n",
    "    # diffMat is [ [1, 1], [1, -1], [-2, 2], [-2, 1] ]\n",
    "    \n",
    "    # **2 means square\n",
    "    sqDiffMat = diffMat ** 2\n",
    "    \n",
    "    # sqDistances = x^2 + y^2\n",
    "    sqDistances = sqDiffMat.sum(axis=1)\n",
    "    \n",
    "    # distance is equal to the square root of\n",
    "    # the sum of the squares of the coordinates\n",
    "    # distance = [2, 2, 8, 5]\n",
    "    distances = sqDistances ** 0.5\n",
    "    \n",
    "    # numpy.argsort() returns the indices that would sort an array\n",
    "    # here returns [0 1 3 2]\n",
    "    sortedDistIndices = distances.argsort()\n",
    "    return sortedDistIndices"
   ]
  },
  {
   "cell_type": "code",
   "execution_count": 33,
   "metadata": {
    "collapsed": true
   },
   "outputs": [],
   "source": [
    "def findMajorityClass(inX, dataset, labels, k, sortedDistIndices):\n",
    "    classCount = {}\n",
    "    \n",
    "    # iterate k times from the closest item\n",
    "    for i in range(k):\n",
    "        voteIlabel = labels[sortedDistIndices[i]]\n",
    "        # increase +1 on the selected label\n",
    "        classCount[voteIlabel] = classCount.get(voteIlabel, 0) + 1\n",
    "    \n",
    "    # {'Action' : 2, 'Romantic' : 1}\n",
    "    # sort ClassCount Descending order {'Action' . 2}\n",
    "    return sorted(classCount.iteritems(), key=operator.itemgetter(1), reverse=True)"
   ]
  },
  {
   "cell_type": "code",
   "execution_count": 34,
   "metadata": {
    "collapsed": false
   },
   "outputs": [
    {
     "name": "stdout",
     "output_type": "stream",
     "text": [
      "Action\n"
     ]
    }
   ],
   "source": [
    "group, labels = createDataSet()\n",
    "result = classify0([2,3], group, labels, 3)\n",
    "print result"
   ]
  },
  {
   "cell_type": "code",
   "execution_count": null,
   "metadata": {
    "collapsed": true
   },
   "outputs": [],
   "source": []
  }
 ],
 "metadata": {
  "kernelspec": {
   "display_name": "Python [Root]",
   "language": "python",
   "name": "Python [Root]"
  },
  "language_info": {
   "codemirror_mode": {
    "name": "ipython",
    "version": 2
   },
   "file_extension": ".py",
   "mimetype": "text/x-python",
   "name": "python",
   "nbconvert_exporter": "python",
   "pygments_lexer": "ipython2",
   "version": "2.7.12"
  }
 },
 "nbformat": 4,
 "nbformat_minor": 0
}
