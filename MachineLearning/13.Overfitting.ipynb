{
 "cells": [
  {
   "cell_type": "markdown",
   "metadata": {
    "collapsed": true
   },
   "source": [
    "### Overfitting"
   ]
  },
  {
   "cell_type": "markdown",
   "metadata": {},
   "source": [
    "If you are skinny jean company..\n",
    "=================================\n",
    "\n",
    "<img src=\"./image/overfitting.png\" height=\"200\" width=\"400\">\n",
    "\n",
    "**you may make jeans for these skinny girls...**"
   ]
  },
  {
   "cell_type": "markdown",
   "metadata": {},
   "source": [
    "The truth is ....\n",
    "==================\n",
    "all your customers are not skinny models.\n",
    "=========================================\n",
    "\n",
    "<img src=\"./image/overfitting01.png\" height=\"100\" width=\"200\">\n"
   ]
  },
  {
   "cell_type": "markdown",
   "metadata": {},
   "source": [
    "You need models for these customers\n",
    "===================================\n",
    "\n",
    "<img src=\"./image/overfitting02.png\" height=\"300\" width=\"600\">"
   ]
  },
  {
   "cell_type": "markdown",
   "metadata": {},
   "source": [
    "### must avoid overfitting\n",
    "\n",
    "\n",
    "### now your customers happy"
   ]
  },
  {
   "cell_type": "markdown",
   "metadata": {},
   "source": [
    "key concepts\n",
    "============\n",
    "\n",
    "<img src=\"./image/overfitting03.png\" height=\"300\" width=\"600\">\n",
    "\n",
    "**Async data에 classify가 제대로 작동을 못할 경우 overfitting 되어 있다라고 한다.**\n",
    "\n",
    "**실제 고객의 data: ansync data(우리가 모르는 데이터)**"
   ]
  },
  {
   "cell_type": "markdown",
   "metadata": {},
   "source": [
    "### Classifier with only skinny girls trained\n",
    "\n",
    "<img src=\"./image/overfitting04.png\" height=\"300\" width=\"600\">\n",
    "\n",
    "<img src=\"./image/overfitting05.png\" height=\"300\" width=\"600\">\n"
   ]
  },
  {
   "cell_type": "markdown",
   "metadata": {},
   "source": [
    "### How to overcome overfitting?\n",
    "\n",
    "* Regularization\n",
    "* Cross Validation\n",
    "* Add more data as much as possible"
   ]
  },
  {
   "cell_type": "code",
   "execution_count": null,
   "metadata": {
    "collapsed": true
   },
   "outputs": [],
   "source": []
  }
 ],
 "metadata": {
  "kernelspec": {
   "display_name": "Python [Root]",
   "language": "python",
   "name": "Python [Root]"
  },
  "language_info": {
   "codemirror_mode": {
    "name": "ipython",
    "version": 2
   },
   "file_extension": ".py",
   "mimetype": "text/x-python",
   "name": "python",
   "nbconvert_exporter": "python",
   "pygments_lexer": "ipython2",
   "version": "2.7.12"
  }
 },
 "nbformat": 4,
 "nbformat_minor": 0
}
