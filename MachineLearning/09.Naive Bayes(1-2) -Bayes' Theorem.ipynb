{
 "cells": [
  {
   "cell_type": "markdown",
   "metadata": {
    "collapsed": true
   },
   "source": [
    "### Bayes' Theorem"
   ]
  },
  {
   "cell_type": "markdown",
   "metadata": {},
   "source": [
    "**P(no girl friend|fat, youtube, no fashion)** = \n",
    "\n",
    "**P(fat|no girl friend) * P(youtube|no girl friend) * P(no fashion|no girl friend)**\n",
    "\n",
    "/ \n",
    "\n",
    "**p(fat) * p(youtube) * p(no fashion)**"
   ]
  },
  {
   "cell_type": "markdown",
   "metadata": {},
   "source": [
    "### Bayes' Theorem proof"
   ]
  },
  {
   "cell_type": "markdown",
   "metadata": {},
   "source": [
    "<img src=\"./image/BayesTheorem01.png\" height=\"300\" width=\"600\">\n",
    "\n",
    "** \"spam\" and \"free\" are clearly dependent**\n",
    "\n",
    "P(A|B) = P(A⌒B) / P(B)\n",
    "\n",
    "P(A⌒B) = P(A|B) * P(B)\n",
    "\n",
    "P(B⌒A) = P(B|A) * P(A)\n",
    "\n",
    "P(B\\⌒A) = P(A⌒B)\n",
    "\n",
    "P(A⌒B) = P(B|A) * P(A) = P(A|B) * P(B)\n",
    "\n",
    "P(B|A) * P(A) = P(A|B) * P(B)\n",
    "\n",
    "**P(B|A) = p(A|B) * P(B) / P(A)**\n",
    "\n"
   ]
  },
  {
   "cell_type": "markdown",
   "metadata": {},
   "source": [
    "### Bayes' Theorem"
   ]
  },
  {
   "cell_type": "markdown",
   "metadata": {
    "collapsed": false
   },
   "source": [
    "<img src=\"./image/BayesTheorem02.png\" height=\"300\" width=\"600\">"
   ]
  },
  {
   "cell_type": "markdown",
   "metadata": {
    "collapsed": true
   },
   "source": [
    "3 emails out of a total of 10 are spam messages P(spam) = 3/10\n",
    "\n",
    "4 emails out of those 10 contain the word \"free\" P(free) = 4/10\n",
    "\n",
    "2 emails containing the word \"free\" have been marked as spam P(free/spam) = 2/3\n",
    "\n",
    "\n",
    "P(spam|free) = P(free|spam) * P(spam) / P(free)\n",
    "\n",
    "             = (2/3 * 3/10) / (4/10) = 0.5 (50%) "
   ]
  },
  {
   "cell_type": "markdown",
   "metadata": {},
   "source": [
    "### Bayes' Theorem\n",
    "** ( spam classifier, contains 'free', 'coupon') **"
   ]
  },
  {
   "cell_type": "markdown",
   "metadata": {},
   "source": [
    "<img src=\"./image/BayesTheorem03.png\" height=\"300\" width=\"600\">"
   ]
  },
  {
   "cell_type": "markdown",
   "metadata": {},
   "source": [
    "6 emails out of a total of 14 are spam messages P(spam) = 6/14\n",
    "\n",
    "7 emails out of those 14 contain the word \"free\" P(free) = 4/14\n",
    "\n",
    "4 emails containing the word \"free\" have been marked as spam P(free|spam) = 2/6\n",
    "\n",
    "4 emails out of a those 14 contain the word \"coupon\" = 4/14\n",
    "\n",
    "3 emails containing the word \"coupon\" have been marked as spam P(coupon | spam) = 3 / 6\n",
    "\n",
    "\n",
    "\n",
    "** P(spam|free,coupon) = P(free|spam\\⌒coupon)*P(coupon|spam)*P(spam) **\n",
    "\n",
    "** / **\n",
    "\n",
    "** P(free|coupon)*P(coupon) **\n",
    "\n",
    "= (3/4 * 4/6 * 6/14) / (4/5 * 5/14)\n",
    "\n",
    "= 0.75 (75%)\n"
   ]
  },
  {
   "cell_type": "markdown",
   "metadata": {},
   "source": [
    "P(spam|free, coupon) = \n",
    "(P(free, coupon | spam) * P(spam)) / P(free, coupon)\n",
    "\n",
    "\n",
    "\n",
    "P(spam|w0,w1,w2...wn) = \n",
    "P(w0,w1,w2...wn|spam) * P(spam) / P(w0,w1,w2,...wn)\n",
    "\n",
    "\n",
    "P(spam|w0,w1,w2...wn) = \n",
    "P(w0|spam)*...P(Wn|spam)*P(spam) / P(w0)*P(w1)*P(w2)*...*P(Wn)"
   ]
  },
  {
   "cell_type": "code",
   "execution_count": null,
   "metadata": {
    "collapsed": true
   },
   "outputs": [],
   "source": []
  }
 ],
 "metadata": {
  "anaconda-cloud": {},
  "kernelspec": {
   "display_name": "Python [Root]",
   "language": "python",
   "name": "Python [Root]"
  },
  "language_info": {
   "codemirror_mode": {
    "name": "ipython",
    "version": 2
   },
   "file_extension": ".py",
   "mimetype": "text/x-python",
   "name": "python",
   "nbconvert_exporter": "python",
   "pygments_lexer": "ipython2",
   "version": "2.7.12"
  }
 },
 "nbformat": 4,
 "nbformat_minor": 0
}
