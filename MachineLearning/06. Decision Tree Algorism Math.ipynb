{
 "cells": [
  {
   "cell_type": "markdown",
   "metadata": {},
   "source": [
    "### ID3 Algorithm (Entropy and Information Gain)\n",
    " ** Caculate Entropy to find family photo of 8 photos **\n",
    " <img src=\"./image/DecisionTree06.png\" height=\"400\" width=\"600\">\n",
    " \n",
    " \n",
    " Total 8 photos\n",
    " 1 photo winter family photo\n",
    " 7 photos Not winter family photo\n",
    " = Entropy([1+, 7-])\n",
    " = -(1/8)*log(1/8) -(7/8)*log(7/8)\n",
    " = 0.543\n",
    " \n",
    " Entropy = -p(+)*log(p(+)) - p(-)*log(p(-))"
   ]
  },
  {
   "cell_type": "markdown",
   "metadata": {},
   "source": [
    "### Information Gain\n",
    "** decrease in entropy after a dataset is split on an attribute **\n",
    " <img src=\"./image/DecisionTree06.png\" height=\"400\" width=\"600\">\n",
    "\n",
    "Information Gain(winter family photo, cartoon)\n",
    "\n",
    "= E(winter family photo) - E(winter family photo, cartoon)\n",
    "\n",
    "= 0.543 - (2/8 * E([0+, 2-]) + 6/8 * E([1+, 5-]))\n",
    "\n",
    "= ?\n",
    "\n",
    "Information Gain(winter family photo, winter)\n",
    "\n",
    "= E(winter family photo) - E(winter family photo, winter)\n",
    "\n",
    "= 0.543 - (2/8 * E([1+, 1-]) + 6/8 * E([1+, 5-]))\n",
    "\n",
    "= ?\n",
    "\n",
    "Information Gain(winter family photo, >1)\n",
    "\n",
    "= E(winter family photo) - E(winter family photo, >1)\n",
    "\n",
    "= 0.543 - (5/8 * E([1+, 4-]) + 3/8 * E([0+, 3-]))\n",
    "\n",
    "= ?"
   ]
  },
  {
   "cell_type": "code",
   "execution_count": null,
   "metadata": {
    "collapsed": true
   },
   "outputs": [],
   "source": []
  }
 ],
 "metadata": {
  "kernelspec": {
   "display_name": "Python [Root]",
   "language": "python",
   "name": "Python [Root]"
  },
  "language_info": {
   "codemirror_mode": {
    "name": "ipython",
    "version": 2
   },
   "file_extension": ".py",
   "mimetype": "text/x-python",
   "name": "python",
   "nbconvert_exporter": "python",
   "pygments_lexer": "ipython2",
   "version": "2.7.12"
  }
 },
 "nbformat": 4,
 "nbformat_minor": 0
}
