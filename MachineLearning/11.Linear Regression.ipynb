{
 "cells": [
  {
   "cell_type": "markdown",
   "metadata": {
    "collapsed": true
   },
   "source": [
    "### Linear Regression"
   ]
  },
  {
   "cell_type": "markdown",
   "metadata": {},
   "source": [
    "** Classification   VS   Regression**"
   ]
  },
  {
   "cell_type": "markdown",
   "metadata": {
    "collapsed": true
   },
   "source": [
    "<img src=\"./image/LinearRegression01.png\" height=\"300\" width=\"600\">"
   ]
  },
  {
   "cell_type": "markdown",
   "metadata": {},
   "source": [
    "**Classify input into categorical Output**"
   ]
  },
  {
   "cell_type": "markdown",
   "metadata": {},
   "source": [
    "<img src=\"./image/LinearRegression02.png\" height=\"300\" width=\"600\">"
   ]
  },
  {
   "cell_type": "markdown",
   "metadata": {},
   "source": [
    "**how tall is he if his weight is 80KG ?**"
   ]
  },
  {
   "cell_type": "markdown",
   "metadata": {},
   "source": [
    "### Linear Regression"
   ]
  },
  {
   "cell_type": "markdown",
   "metadata": {},
   "source": [
    "<img src=\"./image/LinearRegression03.png\" height=\"300\" width=\"600\">"
   ]
  },
  {
   "cell_type": "markdown",
   "metadata": {},
   "source": [
    "**Linear regression predicts output by fitting a linear**\n",
    "**equation(y = ax + b) to observed do.**"
   ]
  },
  {
   "cell_type": "markdown",
   "metadata": {},
   "source": [
    "### Which line will predict more likely to true height?\n",
    "\n",
    "<img src=\"./image/LinearRegression04.png\" height=\"300\" width=\"600\">"
   ]
  },
  {
   "cell_type": "markdown",
   "metadata": {},
   "source": [
    "### which line will predict more likely to true height?\n",
    "\n",
    "<img src=\"./image/LinearRegression05.png\" height=\"300\" width=\"600\">"
   ]
  },
  {
   "cell_type": "markdown",
   "metadata": {},
   "source": [
    "### Square Error -(difference between prediction and real value)2\n",
    "\n",
    "<img src=\"./image/LinearRegression06.png\" height=\"300\" width=\"600\">"
   ]
  },
  {
   "cell_type": "markdown",
   "metadata": {},
   "source": [
    "### Mean Square Error\n",
    "\n",
    "<img src=\"./image/LinearRegression07.png\" height=\"300\" width=\"600\">\n",
    "\n",
    "**Green line has less error, there fore prediction will be more\n",
    "likely to be true value (height)**"
   ]
  },
  {
   "cell_type": "markdown",
   "metadata": {},
   "source": [
    "### How can you code to find best linear equation ? \n",
    "\n",
    "<img src=\"./image/LinearRegression03.png\" height=\"300\" width=\"600\">"
   ]
  },
  {
   "cell_type": "markdown",
   "metadata": {},
   "source": [
    "### Find linear equation has Least Mean Square(LMS) Error\n",
    "\n",
    "\n",
    "Error = h(x) - y (가설 - 실제값)\n",
    "\n",
    "Square Error = (h(x) - y)2\n",
    "\n",
    "Mean Square Error = 1/n⍷(h(x)-y)2\n",
    "\n",
    "Cost Function J(⍬) - 비용 함수\n",
    "\n",
    "** How to find least mean square ? Gradient Decent !**\n",
    "\n",
    "<img src=\"./image/LinearRegression07.png\" height=\"300\" width=\"600\">"
   ]
  },
  {
   "cell_type": "markdown",
   "metadata": {},
   "source": [
    "### Gradient Decent to choose ⍬ in order to minimize cost function\n",
    "\n",
    "**h(x) = ⍬x**\n",
    "\n",
    "We assign inital ⍬\n",
    "\n",
    "    대치\n",
    "**⍬ := ⍬ - ⍶(d/(dx*⍬)) (Mean Square Error)**\n",
    "\n",
    "        We assign inital ⍶\n",
    "        \n",
    "        \n",
    "                        Mean Square Error = 1/n⍷(h(x)-y)2\n",
    "\n",
    "\n",
    "<img src=\"./image/LinearRegression08.png\" height=\"300\" width=\"600\">"
   ]
  },
  {
   "cell_type": "markdown",
   "metadata": {},
   "source": [
    "### Gradient Decent to choose ⍬ in order to minimize cost function\n",
    "\n",
    "**h(x) = ⍬x**\n",
    "\n",
    "We assign inital ⍬=1\n",
    "\n",
    "    대치\n",
    "**⍬ := ⍬ - ⍶(d/(dx*⍬)) (Mean Square Error)**\n",
    "\n",
    "        We assign inital ⍶=0.01    gradient of Mean Square Error > 0\n",
    "        \n",
    "        \n",
    "                        Mean Square Error = 1/n⍷(h(x)-y)2\n",
    "                        \n",
    "<img src=\"./image/LinearRegression09.png\" height=\"300\" width=\"600\">"
   ]
  },
  {
   "cell_type": "markdown",
   "metadata": {},
   "source": [
    "### Gradient Decent to choose ⍬ in order to minimize cost function\n",
    "\n",
    "**h(x) = ⍬x**\n",
    "\n",
    "**Repeat until convage : Convege means Gradient is near Zero**\n",
    "\n",
    "    \n",
    "**⍬ := ⍬ - ⍶(d/(dx*⍬)) (Mean Square Error)**\n",
    "\n",
    "<img src=\"./image/LinearRegression10.png\" height=\"300\" width=\"600\">"
   ]
  },
  {
   "cell_type": "markdown",
   "metadata": {},
   "source": [
    "### Compare Step 1 and Step 200\n",
    "\n",
    "<img src=\"./image/LinearRegression11.png\" height=\"300\" width=\"600\">"
   ]
  },
  {
   "cell_type": "markdown",
   "metadata": {},
   "source": [
    "### Q&A What if we have more ⍬? h(x) =⍬1 * x + ⍬0  (bais 1)\n",
    "\n",
    "<img src=\"./image/LinearRegression11.png\" height=\"300\" width=\"600\">"
   ]
  },
  {
   "cell_type": "markdown",
   "metadata": {},
   "source": [
    "### Q&A How to decide learning rate ?\n",
    "\n",
    "**We must see the learning rate to an appropriate value sine learning rate detemines how fast or slow we will move towards the\n",
    "optimal ⍬\n",
    "\n",
    "**If learning rate is very large, we may skip the optimal solution. If learning rate is too small, finding optimal solution will take huge steps\n",
    "\n",
    "\n",
    "\n",
    "<img src=\"./image/LinearRegression12.png\" height=\"300\" width=\"600\">"
   ]
  },
  {
   "cell_type": "code",
   "execution_count": null,
   "metadata": {
    "collapsed": true
   },
   "outputs": [],
   "source": []
  }
 ],
 "metadata": {
  "kernelspec": {
   "display_name": "Python [Root]",
   "language": "python",
   "name": "Python [Root]"
  },
  "language_info": {
   "codemirror_mode": {
    "name": "ipython",
    "version": 2
   },
   "file_extension": ".py",
   "mimetype": "text/x-python",
   "name": "python",
   "nbconvert_exporter": "python",
   "pygments_lexer": "ipython2",
   "version": "2.7.12"
  }
 },
 "nbformat": 4,
 "nbformat_minor": 0
}
