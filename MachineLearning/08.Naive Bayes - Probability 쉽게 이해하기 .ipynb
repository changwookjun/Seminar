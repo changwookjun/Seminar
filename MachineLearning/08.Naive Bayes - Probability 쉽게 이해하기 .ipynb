{
 "cells": [
  {
   "cell_type": "markdown",
   "metadata": {},
   "source": [
    "### Naive Bayes Probability\n",
    "\n",
    "확률 이론\n",
    "\n",
    "P(A) = The number of ways event can occur / The total number of Possible Outcomes"
   ]
  },
  {
   "cell_type": "markdown",
   "metadata": {},
   "source": [
    "### Probability\n",
    "<img src=\"./image/NaiveBayesProbability01.png\" height=\"100\" width=\"200\">\n",
    "\n",
    "P(apple) = 2 / 3\n",
    "\n",
    "p(banana) = 1 / 3\n"
   ]
  },
  {
   "cell_type": "markdown",
   "metadata": {},
   "source": [
    "### Conditional Probability\n",
    "\n",
    " ** the probability of an event (A), given that another (B) has already occurred **\n",
    " \n",
    " 조건부 확률 어떠한 상황이 주어졌을때 다른 상황이 발생 할 확률 "
   ]
  },
  {
   "cell_type": "markdown",
   "metadata": {},
   "source": [
    "### calculating the intersection (when two events are independent)\n",
    "<img src=\"./image/NaiveBayesProbability02.png\" height=\"300\" width=\"600\">\n",
    "\n",
    "\n",
    "서로간에 영향을 미치지 않는 상황을 이야기 하고 있다.\n",
    "\n",
    "Jackpot이 일어날 확률은 1%이며 \n",
    "\n",
    "White Shirt를 입어도 Jackpot이 일어날 확률은 1%이다.\n",
    "\n",
    "P(A⌒B) = P(A) * P(B)\n",
    "\n",
    "p(A|B) = p(A)  **B has no effect on A**\n",
    "\n",
    "p(B|A) = P(B) **A has no effect on B**\n",
    "\n",
    "\n",
    "**P(Jackpot\\⌒Green_shirt) = P(Jackpot) * P(White_Shirt) = (0.01) * (0.5) = 0.005  **\n"
   ]
  },
  {
   "cell_type": "markdown",
   "metadata": {},
   "source": [
    "### Calculating the intersection (when two events are dependent)\n",
    "<img src=\"./image/NaiveBayesProbability03.png\" height=\"300\" width=\"600\">\n",
    "\n",
    "서로간에 영향을 미치는 상황을 이야기 하고 있다.\n",
    "\n",
    "눈이 올때 감기에 걸릴 확률로써 두개의 조건은 서로에게 영향을 미친다.\n",
    "\n",
    "P(A⌒B) = P(A) * P(B|A) \n",
    "\n",
    "              P(B|A) = P(A⌒B) / P(B)"
   ]
  },
  {
   "cell_type": "code",
   "execution_count": null,
   "metadata": {
    "collapsed": true
   },
   "outputs": [],
   "source": []
  }
 ],
 "metadata": {
  "kernelspec": {
   "display_name": "Python [Root]",
   "language": "python",
   "name": "Python [Root]"
  },
  "language_info": {
   "codemirror_mode": {
    "name": "ipython",
    "version": 2
   },
   "file_extension": ".py",
   "mimetype": "text/x-python",
   "name": "python",
   "nbconvert_exporter": "python",
   "pygments_lexer": "ipython2",
   "version": "2.7.12"
  }
 },
 "nbformat": 4,
 "nbformat_minor": 0
}
