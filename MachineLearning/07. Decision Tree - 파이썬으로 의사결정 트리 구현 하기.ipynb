{
 "cells": [
  {
   "cell_type": "markdown",
   "metadata": {},
   "source": [
    "# Create Data Set\n",
    " <img src=\"./image/DecisionTree06.png\" height=\"400\" width=\"600\">"
   ]
  },
  {
   "cell_type": "code",
   "execution_count": 19,
   "metadata": {
    "collapsed": true
   },
   "outputs": [],
   "source": [
    "from math import log\n",
    "import operator"
   ]
  },
  {
   "cell_type": "code",
   "execution_count": 20,
   "metadata": {
    "collapsed": true
   },
   "outputs": [],
   "source": [
    "def createDataSet():\n",
    "    dataSet = [[1, 0, 1, 'no'],\n",
    "              [0, 0, 1, 'no'],\n",
    "              [0, 1, 1, 'yes'],\n",
    "              [0, 1, 0, 'no'],\n",
    "              [0, 0, 0, 'no'],\n",
    "              [0, 0, 1, 'no'],\n",
    "              [1, 0, 1, 'no']]\n",
    "    labels = ['cartoon', 'winter', 'more than 1 person']\n",
    "    \n",
    "    # change to discrete value\n",
    "    return dataSet, labels"
   ]
  },
  {
   "cell_type": "code",
   "execution_count": 21,
   "metadata": {
    "collapsed": true
   },
   "outputs": [],
   "source": [
    "def calcShannonEnt(dataSet):\n",
    "    numEntries = len(dataSet)\n",
    "    labelCounts = {}\n",
    "    for featVec in dataSet: # the number of unique elements and their occurance\n",
    "        currentLabel = featVec[-1]\n",
    "        if currentLabel not in labelCounts.keys(): labelCounts[currentLabel] = 0 # ???\n",
    "        labelCounts[currentLabel] += 1\n",
    "    shannonEnt = 0.0\n",
    "    for key in labelCounts:\n",
    "        prob = float (labelCounts[key]) / numEntries\n",
    "        shannonEnt -= prob * log(prob, 2) # log base 2\n",
    "    \n",
    "    return shannonEnt"
   ]
  },
  {
   "cell_type": "code",
   "execution_count": 22,
   "metadata": {
    "collapsed": true
   },
   "outputs": [],
   "source": [
    "def splitDataSet(dataSet, axis, value):\n",
    "    retDataSet = []\n",
    "    for featVec in dataSet:\n",
    "        if featVec[axis] == value:\n",
    "            reducedFeatVec = featVec[:axis] # chop out axis used for splitting\n",
    "            reducedFeatVec.extend(featVec[axis + 1:])\n",
    "            retDataSet.append(reducedFeatVec)\n",
    "    return retDataSet"
   ]
  },
  {
   "cell_type": "code",
   "execution_count": 23,
   "metadata": {
    "collapsed": true
   },
   "outputs": [],
   "source": [
    "def chooseBestFeatureToSplit(dataSet):\n",
    "    numFeatures = len(dataSet[0]) - 1 # the last column is used for the labels\n",
    "    baseEntropy = calcShannonEnt(dataSet)\n",
    "    bestInfoGain = 0.0;\n",
    "    bestFeature = -1\n",
    "    for i in range(numFeatures): # iterate over all the features\n",
    "        featList = [example[i] for example in dataSet] # create a list of all the examples of this feature\n",
    "        uniqueVals = set(featList) # get a set of unique values\n",
    "        newEntropy = 0.0\n",
    "        for value in uniqueVals:\n",
    "            subDataSet = splitDataSet(dataSet, i, value)\n",
    "            prob = len(subDataSet) / float(len(dataSet))\n",
    "            newEntropy += prob * calcShannonEnt(subDataSet)\n",
    "            \n",
    "        infoGain = baseEntropy - newEntropy # calculate the info gain; ie reduction in entropy\n",
    "        \"\"\"\n",
    "        print(\"feature : \" + str(i))\n",
    "        print(\"baseEntropy : \" + str(baseEntropy))\n",
    "        print(\"new Entropy : \" + str(newEntropy))\n",
    "        print(\"infoGain : \" + str(infoGain))\n",
    "        \"\"\"\n",
    "        if (infoGain > bestInfoGain): # compare this to the best gain so far\n",
    "            bestInfoGain = infoGain # if better than current best, set to best\n",
    "            bestFeature = i\n",
    "    return bestFeature # returns an integer"
   ]
  },
  {
   "cell_type": "code",
   "execution_count": 24,
   "metadata": {
    "collapsed": true
   },
   "outputs": [],
   "source": [
    "def majorityCnt(classList):\n",
    "    classCount = {}\n",
    "    for vote in classList:\n",
    "        if vote not in classCount.keys(): classCount[vote] = 0\n",
    "        classCount[vote] += 1\n",
    "    sortedClassCount = sorted(classCount.iteritems(), key=operator.itemgetter(1), reverse=True)\n",
    "    return sortedClassCount[0][0]"
   ]
  },
  {
   "cell_type": "code",
   "execution_count": 37,
   "metadata": {
    "collapsed": true
   },
   "outputs": [],
   "source": [
    "def createTree(dataSet, labels):\n",
    "    # extracting data\n",
    "    classList = [example[-1] for example in dataSet]\n",
    "    if classList.count(classList[0]) == len(classList):\n",
    "        return classList[0] # stop splitting when all of the classes are equal\n",
    "    if len(dataSet[0]) == 1: # stop splitting when there are no more features in dataSet\n",
    "        return majorityCnt(classList)\n",
    "    \n",
    "    # use Information Gain\n",
    "    bestFeat = chooseBestFeatureToSplit(dataSet)\n",
    "    bestFeatLabel = labels[bestFeat]\n",
    "    \n",
    "    # build a tree recursively\n",
    "    myTree = {bestFeatLabel: {}}\n",
    "    #print(\"myTree : \"+labels[bestFeat])\n",
    "    del (labels[bestFeat])\n",
    "    featValues = [example[bestFeat] for example in dataSet]\n",
    "    #print(\"featValues: \"+str(featValues))\n",
    "    uniqueVals = set(featValues)\n",
    "    #print(\"uniqueVals: \" + str(uniqueVals))\n",
    "    for value in uniqueVals:\n",
    "        subLabels = labels[:] # copy all of labels, so trees don't mess up existing labels\n",
    "        # print(\"subLabels\" + str(subLabels))\n",
    "        myTree[bestFeatLabel][value] = createTree(splitDataSet(dataSet, bestFeat, value), subLabels)\n",
    "        # print(\"myTree : str(myTree)\")\n",
    "    return myTree"
   ]
  },
  {
   "cell_type": "code",
   "execution_count": 31,
   "metadata": {
    "collapsed": true
   },
   "outputs": [],
   "source": [
    "def classify(inputTree, featLabels, testVec):\n",
    "    firstStr = inputTree.keys()[0]\n",
    "    # print(\"fistStr : \" + firstStr)\n",
    "    secondDict = inputTree[firstStr]\n",
    "    # print(\"secondDict : \" + str(secondDict))\n",
    "    featIndex = featLabels.index(firstStr)\n",
    "    # print(\"featIndex : \" + str(featIndex))\n",
    "    key = testVec[featIndex]\n",
    "    # print(\"key : \" + str(key))\n",
    "    valueOfFeat = secondDict[key]\n",
    "    # print(\"valueOfFeat : \" + str(valueOfFeat))\n",
    "    if isinstance(valueOfFeat, dict):\n",
    "        # print(\"is instance: \" + str(valueOfFeat))\n",
    "        classLabel = classify(valueOfFeat, featLabels, testVec)\n",
    "    else:\n",
    "        # print(\"is Not instance: \" + valueOfFeat)\n",
    "        classLabel = valueOfFeat\n",
    "    return classLabel"
   ]
  },
  {
   "cell_type": "code",
   "execution_count": 32,
   "metadata": {
    "collapsed": false
   },
   "outputs": [],
   "source": [
    "def storeTree(inputTree, filename):\n",
    "    import pickle\n",
    "    fw = open(filename, 'w')\n",
    "    pickle.dump(inputTree, fw)\n",
    "    fw.close()"
   ]
  },
  {
   "cell_type": "code",
   "execution_count": 33,
   "metadata": {
    "collapsed": true
   },
   "outputs": [],
   "source": [
    "def grabTree(filename):\n",
    "    import pickle\n",
    "    fr = open(filename)\n",
    "    return pickle.load(fr)"
   ]
  },
  {
   "cell_type": "code",
   "execution_count": 38,
   "metadata": {
    "collapsed": false
   },
   "outputs": [
    {
     "name": "stdout",
     "output_type": "stream",
     "text": [
      "{'winter': {0: 'no', 1: {'more than 1 person': {0: 'no', 1: 'yes'}}}}\n",
      "Thanks, now I can recognize winter family photo, give me any photo\n",
      "Hi, the answer is yes, it is winter family photo\n",
      "Hi, the answer is yes, it is not winter family photo\n"
     ]
    }
   ],
   "source": [
    "# collect data\n",
    "myDat, labels = createDataSet ()\n",
    "\n",
    "# build a tree\n",
    "mytree = createTree(myDat, labels)\n",
    "print(mytree)\n",
    "\n",
    "print(\"Thanks, now I can recognize winter family photo, give me any photo\")\n",
    "\n",
    "# run test\n",
    "answer = classify(mytree, ['cartoon', 'winter', 'more than 1 person'], [0, 1, 1])\n",
    "print(\"Hi, the answer is \" + answer + \", it is winter family photo\")\n",
    "\n",
    "answer = classify(mytree, ['cartoon', 'winter', 'more than 1 person'], [1, 1, 1])\n",
    "print(\"Hi, the answer is \"+ answer + \", it is not winter family photo\")"
   ]
  }
 ],
 "metadata": {
  "kernelspec": {
   "display_name": "Python [Root]",
   "language": "python",
   "name": "Python [Root]"
  },
  "language_info": {
   "codemirror_mode": {
    "name": "ipython",
    "version": 2
   },
   "file_extension": ".py",
   "mimetype": "text/x-python",
   "name": "python",
   "nbconvert_exporter": "python",
   "pygments_lexer": "ipython2",
   "version": "2.7.12"
  }
 },
 "nbformat": 4,
 "nbformat_minor": 0
}
